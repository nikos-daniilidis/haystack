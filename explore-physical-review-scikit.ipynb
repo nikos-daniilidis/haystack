{
 "metadata": {
  "name": ""
 },
 "nbformat": 3,
 "nbformat_minor": 0,
 "worksheets": [
  {
   "cells": [
    {
     "cell_type": "heading",
     "level": 1,
     "metadata": {},
     "source": [
      "An exploration of Physics research trends in Physical Review 1900-1973"
     ]
    },
    {
     "cell_type": "markdown",
     "metadata": {},
     "source": [
      "This notebook contains preliminary exploration of data from the Physical Review archive. Many thanks to the American Physical Society for providing the original data. "
     ]
    },
    {
     "cell_type": "markdown",
     "metadata": {},
     "source": [
      "The data provides the title, year, authors, Journal Reference, and DOI number of publications. Here I am only using \n",
      "the year and title of each publication (~50000 in total for the Physical Review archive)."
     ]
    },
    {
     "cell_type": "markdown",
     "metadata": {},
     "source": [
      "I use a simplistic bag-of-words approach to identify trends in the history of Physics for the years covered by the archive.\n",
      "The  approach is: take the titles, process them (getting rid of stopwords, punctuation, etc) and look at the frequencies of\n",
      "occurrence of different terms. Then I can look for the most popular terms during a given period, or plot how the popularity of\n",
      "a term varied through time. "
     ]
    },
    {
     "cell_type": "markdown",
     "metadata": {},
     "source": [
      "After parsing and preparing the data, I look at two aspects of it:\n",
      "1. Most popular terms by decade.\n",
      "2. Trends in popularity of specific terms over time."
     ]
    },
    {
     "cell_type": "markdown",
     "metadata": {},
     "source": [
      "I did not attempt to answer any profound questions here, merely wanted to learn about the difficulties I might encounter in doing this sort of thing. \n",
      "\n",
      "OK, let's start. Some cells of code follow. Scroll down if you're not interested in this."
     ]
    },
    {
     "cell_type": "heading",
     "level": 5,
     "metadata": {},
     "source": [
      "Get some libraries and set basic parameters. "
     ]
    },
    {
     "cell_type": "code",
     "collapsed": false,
     "input": [
      "import os\n",
      "from pattern import web\n",
      "from multiprocessing import Process, Queue\n",
      "import pandas as pd\n",
      "from pattern.en import pluralize, singularize\n",
      "import string\n",
      "from nltk.tokenize import wordpunct_tokenize\n",
      "from nltk.corpus import stopwords\n",
      "import textmining as txtm\n",
      "from sklearn.feature_extraction.text import CountVectorizer\n",
      "from scipy.sparse import coo_matrix, csc_matrix, hstack\n",
      "import re # regular expressions\n",
      "import numpy as np\n",
      "import matplotlib.pyplot as plt\n",
      "import math\n",
      "#import requests\n",
      "#import nltk.classify\n",
      "#from nltk.corpus import wordnet as wn\n",
      "#from nltk import pos_tag\n",
      "\n",
      "pd.set_option('display.width', 500)\n",
      "pd.set_option('display.max_columns', 30)"
     ],
     "language": "python",
     "metadata": {},
     "outputs": [],
     "prompt_number": 1
    },
    {
     "cell_type": "code",
     "collapsed": false,
     "input": [
      "# Thanks to the CS109 folks for the following settings\n",
      "import cs109style\n",
      "cs109style.customize_mpl()\n",
      "cs109style.customize_css()\n",
      "#%matplotlib inline "
     ],
     "language": "python",
     "metadata": {},
     "outputs": [
      {
       "output_type": "stream",
       "stream": "stdout",
       "text": [
        "Setting custom matplotlib visual style\n",
        "Setting custom CSS for the IPython Notebook\n"
       ]
      },
      {
       "html": [
        "<style>\n",
        "    @font-face {\n",
        "        font-family: \"Computer Modern\";\n",
        "        src: url('http://mirrors.ctan.org/fonts/cm-unicode/fonts/otf/cmunss.otf');\n",
        "    }\n",
        "    div.cell{\n",
        "        width:800px;\n",
        "        margin-left:16% !important;\n",
        "        margin-right:auto;\n",
        "    }\n",
        "    h1 {\n",
        "        font-family: Helvetica, serif;\n",
        "    }\n",
        "    h4{\n",
        "        margin-top:12px;\n",
        "        margin-bottom: 3px;\n",
        "       }\n",
        "    div.text_cell_render{\n",
        "        font-family: Computer Modern, \"Helvetica Neue\", Arial, Helvetica, Geneva, sans-serif;\n",
        "        line-height: 145%;\n",
        "        font-size: 130%;\n",
        "        width:800px;\n",
        "        margin-left:auto;\n",
        "        margin-right:auto;\n",
        "    }\n",
        "\n",
        "    div.text_cell_render li {\n",
        "        line-height: 145%;\n",
        "    }\n",
        "\n",
        "    div.text_cell_render code {\n",
        "        color: rgb(40, 114, 43);\n",
        "        font-family: \"Source Code Pro\", source-code-pro,Consolas, monospace;\n",
        "        font-size: 80%;\n",
        "    }\n",
        "\n",
        "    .CodeMirror{\n",
        "            font-family: \"Source Code Pro\", source-code-pro,Consolas, monospace;\n",
        "    }\n",
        "\n",
        "    .text_cell_render h5 {\n",
        "        font-weight: 300;\n",
        "        font-size: 16pt;\n",
        "        color: #4057A1;\n",
        "        font-style: italic;\n",
        "        margin-bottom: .5em;\n",
        "        margin-top: 0.5em;\n",
        "        display: block;\n",
        "    }\n",
        "\n",
        "    .warning{\n",
        "        color: rgb( 240, 20, 20 )\n",
        "        }\n",
        "\n",
        "    strong{\n",
        "        color: rgb(23, 103, 140);\n",
        "\tborder: 1px solid;\n",
        "    }\n",
        "\n",
        "</style>\n",
        "<script>\n",
        "    MathJax.Hub.Config({\n",
        "                        TeX: {\n",
        "                           extensions: [\"AMSmath.js\"]\n",
        "                           },\n",
        "                tex2jax: {\n",
        "                    inlineMath: [ ['$','$'], [\"\\\\(\",\"\\\\)\"] ],\n",
        "                    displayMath: [ ['$$','$$'], [\"\\\\[\",\"\\\\]\"] ]\n",
        "                },\n",
        "                displayAlign: 'center', // Change this to 'center' to center equations.\n",
        "                \"HTML-CSS\": {\n",
        "                    styles: {'.MathJax_Display': {\"margin\": 4}}\n",
        "                }\n",
        "        });\n",
        "</script>\n"
       ],
       "metadata": {},
       "output_type": "pyout",
       "prompt_number": 2,
       "text": [
        "<IPython.core.display.HTML at 0x7f0deef338d0>"
       ]
      }
     ],
     "prompt_number": 2
    },
    {
     "cell_type": "heading",
     "level": 5,
     "metadata": {},
     "source": [
      "Parse the metadata xml files to strings, and write a little function to get the title and year into a dataframe. The following functions do that."
     ]
    },
    {
     "cell_type": "code",
     "collapsed": false,
     "input": [
      "# def get_title_year_memtest(xml,low,high):\n",
      "# Parse an XML document and return a list of the numbers that appear under the publication year tag.\n",
      "def get_title_year_memtest(xml,low,high):\n",
      "    \"\"\"\n",
      "    Parse an XML document and return a list of the numbers that appear under \n",
      "    the publication year tag.\n",
      "    The primary purpose is to see what range of years the document covers.\n",
      "    A secondary purpose is to check memory usage issues.\n",
      "    Inputs: xml (xml string); low, high (integers) defining beginning and \n",
      "\t    ending year of the record to follow \n",
      "    Returns: a list of integers\n",
      "    \"\"\"\n",
      "    totalcount, count = 0,0\n",
      "    dom = web.Element(xml)\n",
      "    years = []\n",
      "    for article in dom.by_tag('article'):\n",
      "        totalcount += 1\n",
      "        if totalcount%20000 == 1: \n",
      "            print totalcount, ' articles parsed'\n",
      "        year = int(re.split('\"',article.by_tag('cpyrt')[0].content)[1]) \n",
      "        years.append(year)\n",
      "        if low < year <= high:\n",
      "            count += 1\n",
      "            if count%1 == 1:\n",
      "                print count, 'articles within range'\n",
      "    years = list(set(years))\n",
      "    years.sort()\n",
      "    return years"
     ],
     "language": "python",
     "metadata": {},
     "outputs": [],
     "prompt_number": 3
    },
    {
     "cell_type": "code",
     "collapsed": false,
     "input": [
      "# def get_title_year(xml,low,high,q):\n",
      "# Given an XML document extract the title and year of each article and return as a dict\n",
      "def get_title_year(xml,low,high,q):\n",
      "    \"\"\"\n",
      "    Given an XML document extract the title and year of each article within \n",
      "    a range of years from low to high.\n",
      "    Inputs:\n",
      "    xml: a string with xml formatting \n",
      "    low, high: integers defining beginning and ending year of the record to follow\n",
      "    q: a queue object \n",
      "    Returns: \n",
      "    result: a dict\n",
      "    \"\"\"\n",
      "    totalcount = 0\n",
      "    dom = web.Element(xml)\n",
      "    result = {'title':[], 'title_stripped':[], 'publication_year':[]}\n",
      "    for article in dom.by_tag('article'):\n",
      "        totalcount += 1\n",
      "        if totalcount%10000 == 1: \n",
      "            print totalcount, ' articles parsed'\n",
      "        year = int(re.split('\"',article.by_tag('cpyrt')[0].content)[1]) \n",
      "        if low < year <= high:\n",
      "            title = article.by_tag('title')[0].content.encode('ascii','ignore')\n",
      "            title_stripped = tokenize_clean(remove_punct(title))\n",
      "            if len(re.sub(' ','',title_stripped))>0:\n",
      "                result['title'].append(title)\n",
      "                result['title_stripped'].append(title_stripped)\n",
      "                result['publication_year'].append(int(re.split('\"',article.by_tag('cpyrt')[0].content)[1]))\n",
      "    q.put(result)\n",
      "                 \n",
      "# def get_title_year_df(xml,low,high):\n",
      "# Given an XML document extract the title and year of each article and return a pandas DataFrame\n",
      "def get_title_year_df(xml,low,high):\n",
      "    \"\"\"\n",
      "    Given an XML document extract the title and year of each article within \n",
      "    a range of years from low to high. Uses multiprocessing to return resources to the os\n",
      "    Inputs:\n",
      "    xml: a string with xml formatting \n",
      "    low, high: integers defining beginning and ending year of the record to follow\n",
      "    q: a queue object \n",
      "    Returns: \n",
      "    a pandas dataframe\n",
      "    \"\"\"\n",
      "    q = Queue()\n",
      "    p = Process(target=get_title_year, args=(xml,low,high,q))\n",
      "    p.start()\n",
      "    ty_dict = q.get()\n",
      "    p.join()\n",
      "    if p.is_alive():\n",
      "        p.terminate()\n",
      "    return pd.DataFrame(ty_dict)\n",
      "\n",
      "#def get_title_year_dicts(xml,yearList):\n",
      "# Given an XML document extract the title and year of each article and return a list of dicts, \n",
      "# each with articles between values determined in yearList\n",
      "def get_title_year_dicts(xml,yearList):\n",
      "    \"\"\"\n",
      "    Given an xml document and a list of numbers, extract the title and year of \n",
      "    each article within a range of years. \n",
      "    Inputs: xml  (xml string); yearList (list) defining the boundaries for grouping\n",
      "    Returns: a list of dicts, where ldf[0] is a dict of title/year entries between \n",
      "    yearList[0] and yearList[1], etc.\n",
      "    \"\"\"\n",
      "    totalcount = 0\n",
      "    dom = web.Element(xml)\n",
      "    result = []\n",
      "    for year in yearList[:-1]:\n",
      "        result.append({'title':[], 'title_stripped':[], 'publication_year':[]})\n",
      "    for article in dom.by_tag('article'):\n",
      "        totalcount += 1\n",
      "        if totalcount%10000 == 1: \n",
      "            print totalcount, ' articles parsed'\n",
      "        year = int(re.split('\"',article.by_tag('cpyrt')[0].content)[1]) \n",
      "        if min(yearList)<year<=max(yearList):\n",
      "            decade = (year-1900)/10\n",
      "            title = article.by_tag('title')[0].content.encode('ascii','ignore')\n",
      "            title_stripped = tokenize_clean(remove_punct(title))\n",
      "            if len(re.sub(' ','',title_stripped))>0:\n",
      "                result[decade]['title'].append(title)\n",
      "                result[decade]['title_stripped'].append(title_stripped)\n",
      "                result[decade]['publication_year'].append(int(year))\n",
      "    return result\n",
      "\n",
      "#def dicts_to_dataframes(dctlist):\n",
      "# Given an XML document extract the title and year of each article and return a list of dataframes, \n",
      "# each with articles between values determined in yearList\n",
      "def dicts_to_dataframes(dctlist):\n",
      "    \"\"\"\n",
      "    Convert a list of dicts to a list of dataframes\n",
      "    \"\"\"\n",
      "    result = []\n",
      "    for dct in dctlist:\n",
      "        result.append(pd.DataFrame(dct))\n",
      "    return result \n",
      "\n",
      "#def concat_dataframe_lists(dflst1,dflst2):\n",
      "# Concatenate the corresponding dataframes from two lists of dataframes\n",
      "def concat_dataframe_lists(dflst1,dflst2):\n",
      "    \"\"\"\n",
      "    Concatenate the corresponding dataframes from two lists of dataframes\n",
      "    \"\"\"\n",
      "    result = []\n",
      "    for n,df1 in enumerate(dflst1):\n",
      "        result.append(pd.concat([df1,dflst2[n]],ignore_index = 'True'))\n",
      "    return result"
     ],
     "language": "python",
     "metadata": {},
     "outputs": [],
     "prompt_number": 4
    },
    {
     "cell_type": "heading",
     "level": 5,
     "metadata": {},
     "source": [
      "String parsing functions "
     ]
    },
    {
     "cell_type": "code",
     "collapsed": false,
     "input": [
      "sw = stopwords.words('english')\n",
      "datapath = os.path.join('aps-data','r_stopwords.csv') # Stopwords exported from the 'tm' library in R.\n",
      "f = open(datapath,'r')\n",
      "rsw_file = f.read()\n",
      "f.close()\n",
      "rsw = rsw_file.translate(None,'\\\"').split()\n",
      "physicsUnWords = ['method','property','meeting','minute','book','note', 'calculation',\n",
      "                  'study','comparison','determination','function','effect','minutes',\n",
      "                  'effect','theory','energy', 'solution','ii','II','ius','low','review']\n",
      "swe = physicsUnWords+rsw\n",
      "sw.extend(swe)\n",
      "\n",
      "#def my_singularize(strn):\n",
      "def my_singularize(strn):\n",
      "    '''\n",
      "    Return the singular of a noun. Add special cases to correct pattern generic rules.\n",
      "    '''\n",
      "    exceptionDict = {'gases':'gas','spectra':'spectrum','cross':'cross','nuclei':'nucleus', 'apparatus':'apparatus',\n",
      "                     'analysis':'analysis','gas':'gas', 'modulus':'modulus', 'waals':'waals', 'mass':'mass', \n",
      "                     'rays':'ray', 'xrays':'xray'}\n",
      "    try:\n",
      "        return exceptionDict[strn]\n",
      "    except:\n",
      "        return singularize(strn)\n",
      "\n",
      "#def remove_punct(strin):\n",
      "def remove_punct(strin):\n",
      "    '''\n",
      "    returns a string with the punctuation marks removed, and all lower case letters\n",
      "    input: strin, an ascii string. convert using strin.encode('ascii','ignore') if it is unicode \n",
      "    '''\n",
      "    removed_dashes = strin.lower()\n",
      "    removed_dashes = removed_dashes.replace('x-ray','xray').replace('x-rays','xray').replace('x ray','xray').replace('x rays','xray')\n",
      "    removed_dashes = removed_dashes.replace('-',' ')\n",
      "    return removed_dashes.translate(string.maketrans(\"\",\"\"), string.punctuation)\n",
      "\n",
      "#def tokenize_clean(strin):\n",
      "def tokenize_clean(strin):\n",
      "    '''\n",
      "    tokenizes string and removes stopwords\n",
      "    returns a string\n",
      "    '''\n",
      "    \n",
      "    return ' '.join(set(my_singularize(wrd) for wrd in wordpunct_tokenize(strin)).difference(sw))\n",
      "\n",
      "#tokenize_clean(remove_punct('Absorption of X rays by Lead, and how about cosmic rays'))"
     ],
     "language": "python",
     "metadata": {},
     "outputs": [],
     "prompt_number": 5
    },
    {
     "cell_type": "heading",
     "level": 5,
     "metadata": {},
     "source": [
      "Create a Term Document Matrix, to find frequency of terms. Start with a title/year dataframe, and return a tdm/year dataframe."
     ]
    },
    {
     "cell_type": "code",
     "collapsed": false,
     "input": [
      "# this function is based on Slender Means, CH3\n",
      "#def tdm_df(ty_df, sparse_df = False):\n",
      "def tdm_df(ty_df, sparse_df = False):\n",
      "    '''\n",
      "    Create a term-document matrix from a year/title dataframe\n",
      "    \n",
      "    Uses the TermDocumentMatrix function in the `textmining` module.\n",
      "    But, pre-processes the documents to remove digits, punctuation,\n",
      "    and stopwords, to match the functionality of R's `tm` package.\n",
      "    \n",
      "    NB: This is not particularly memory efficient and you can get memory\n",
      "    errors with an especially long list of documents.\n",
      "    \n",
      "    Returns a (by default, sparse) DataFrame. Each column is a term,\n",
      "    each row is a document.\n",
      "    Based on tdm_df from Slender Means\n",
      "    '''\n",
      "    # Create the TDM from the list of documents.\n",
      "    tdm = txtm.TermDocumentMatrix()\n",
      "\n",
      "    #for pubindex in df\n",
      "    tdm = txtm.TermDocumentMatrix()\n",
      "\n",
      "    for idx in ty_df.index:\n",
      "        title  = ty_df['title'][idx].encode('ascii','ignore')\n",
      "        title = tokenize_clean(remove_punct(title))\n",
      "        tdm.add_doc(title)\n",
      "    \n",
      "    # Push the TDM data to a list of lists,\n",
      "    # then make that an ndarray, which then\n",
      "    # becomes a DataFrame.\n",
      "    tdm_rows = []\n",
      "    for row in tdm.rows(cutoff = 1):\n",
      "        tdm_rows.append(row)\n",
      "\n",
      "    tdm_array = np.array(tdm_rows[1:])\n",
      "    tdm_terms = tdm_rows[0]\n",
      "    df = pd.DataFrame(tdm_array, columns = tdm_terms)\n",
      "\n",
      "    if sparse_df == True:\n",
      "        df.to_sparse(fill_value = 0)\n",
      "\n",
      "    return df"
     ],
     "language": "python",
     "metadata": {},
     "outputs": [],
     "prompt_number": 6
    },
    {
     "cell_type": "heading",
     "level": 5,
     "metadata": {},
     "source": [
      "Two convenient implementations of term density matrices based on scikit-learn CountVectorizer"
     ]
    },
    {
     "cell_type": "code",
     "collapsed": false,
     "input": [
      "#def df2tdm(df,titleColumn,placementColumn):\n",
      "def df2tdm(df, titleColumn, placementColumn, min__df = 1, max__df = 0.9, max__features = 500, ngram__range = (1,1), stop__words = []):\n",
      "    '''\n",
      "    Takes in a DataFrame containing titleColumn, placementColumn, and returns \n",
      "    a dataframe with the term density matrix of the words appearing in titleColumn\n",
      "    \n",
      "    Inputs: df, a DataFrame containing titleColumn, placementColumn among other \n",
      "\tcolumns. e.g. titleColumn = 'title_stripped', placementColumn = 'publication_year'\n",
      "    Outputs: tdm_df, a DataFrame containing placementColumn and columns with all \n",
      "\tthe words appearrig in df.titleColumn\n",
      "        \n",
      "    Credits: \n",
      "    http://stackoverflow.com/questions/22205845/efficient-way-to-create-term-density-matrix-from-pandas-dataframe\n",
      "    '''\n",
      "    vectorizer = CountVectorizer(min_df=min__df, max_df=max__df, max_features=max__features, ngram_range=ngram__range, stop_words=stop__words)\n",
      "    tdm_df = pd.DataFrame(vectorizer.fit_transform(df[titleColumn]).toarray(), columns=vectorizer.get_feature_names())\n",
      "    tdm_df = tdm_df.join(pd.DataFrame(df[placementColumn]))\n",
      "    return tdm_df\n",
      "\n",
      "#def df2tdm_sparse(df,titleColumn,placementColumn):\n",
      "def df2tdm_sparse(df, titleColumn, placementColumn, min__df = 1, max__df = 0.9, max__features = 500, ngram__range = (1,1), stop__words = []):\n",
      "    '''\n",
      "    Takes in a DataFrame with at least two columns, and returns a dataframe with \n",
      "\tthe term density matrix of the words appearing in the titleColumn. This \n",
      "\timplementation uses sparse DataFrames.\n",
      "    \n",
      "    Inputs: df, a DataFrame containing titleColumn, placementColumn among other columns\n",
      "    Outputs: tdm_df, a DataFrame containing placementColumn and columns with all the \n",
      "\twords appearrig in df.titleColumn\n",
      "    \n",
      "    Credits: \n",
      "    http://stackoverflow.com/questions/22205845/efficient-way-to-create-term-density-matrix-from-pandas-dataframe\n",
      "    http://stackoverflow.com/questions/17818783/populate-a-pandas-sparsedataframe-from-a-scipy-sparse-matrix\n",
      "    http://stackoverflow.com/questions/6844998/is-there-an-efficient-way-of-concatenating-scipy-sparse-matrices\n",
      "    '''\n",
      "    vectorizer = CountVectorizer(min_df=min__df, max_df=max__df, max_features=max__features, ngram_range=ngram__range, stop_words=stop__words)\n",
      "    pm = df[[placementColumn]].values\n",
      "    tm = vectorizer.fit_transform(df[titleColumn])#.toarray()\n",
      "    m = csc_matrix(hstack([pm,tm]))\n",
      "    dfout = pd.SparseDataFrame([ pd.SparseSeries(m[i].toarray().ravel()) for i in np.arange(m.shape[0]) ])\n",
      "    dfout.columns = [placementColumn]+vectorizer.get_feature_names()\n",
      "    return dfout"
     ],
     "language": "python",
     "metadata": {},
     "outputs": [],
     "prompt_number": 7
    },
    {
     "cell_type": "code",
     "collapsed": false,
     "input": [
      "# Also based on slender means, CH3\n",
      "#def make_term_df(tdm): \n",
      "#Create a DataFrame that gives statistics for each term in a Term Document Matrix.\n",
      "def make_term_df(tdm):\n",
      "    '''\n",
      "    Create a DataFrame that gives statistics for each term in a\n",
      "    Term Document Matrix.\n",
      "    \n",
      "    `frequency` is how many times the term occurs across all documents.\n",
      "    `density` is frequency normalized by the sum of all terms' frequencies.\n",
      "    `occurrence` is the percent of documents that a term appears in.\n",
      "    \n",
      "    Returns a DataFrame, with an index of terms from the input TDM.\n",
      "    '''\n",
      "    term_df = pd.DataFrame(tdm.sum(), columns = ['frequency'])\n",
      "    term_df['density'] = term_df.frequency / float(term_df.frequency.sum())\n",
      "    term_df['occurrence'] = tdm.apply(lambda x: np.sum((x > 0))) / float(tdm.shape[0])\n",
      "\n",
      "    return term_df.sort_index(by = 'occurrence', ascending = False)"
     ],
     "language": "python",
     "metadata": {},
     "outputs": [],
     "prompt_number": 8
    },
    {
     "cell_type": "code",
     "collapsed": false,
     "input": [
      "#def batchTermStatsDf(df_list, titleColumn, min__df = 1, max__df = 0.9, max__features = 500, ngram__range = (1,1), stop__words = []):\n",
      "#Create dataframes with the occurrence statistics of each term in a title/year dataframe\n",
      "def batchTermStatsDf(df_list, titleColumn, min__df = 1, max__df = 0.9, max__features = 500, ngram__range = (1,1), stop__words = []):\n",
      "    '''\n",
      "    Create dataframes with the occurrence statistics of each term in a title/year dataframe\n",
      "    Take a list of DataFrames of the form:\n",
      "           | titleColumn  | X      |     Y   | ...\n",
      "    0      |  'Text here' | Number |    ...\n",
      "    1      |     ...      | ...    |    ...                     ...or something similar\n",
      "    And use scikit-learn CountVectorizer to create a list of DataFrames with the \n",
      "\toccurrence statistics of each term in the titleColumn column for each DataFrame \n",
      "\tin df_list. Output DataFrames are of the form:\n",
      "           | occurrences | term | probability\n",
      "    0      |     32      |'the' |    0.09\n",
      "    1      |     ...     | ...  |   ...                     ...or something similar. \n",
      "    Input:\n",
      "    ------\n",
      "    df_list: list of N dataframes\n",
      "    titleColumn: the name of the column which contains the text to be analyzed in the DataFrames \n",
      "\tin df_list. Remaining inputs are the same as in CountVectorizer\n",
      "    Output:\n",
      "    -------\n",
      "    term_stats_df_list: a list of dataframes, each containing statistics of the text in the \n",
      "\ttitleColumn columns in the input DataFrames\n",
      "    '''\n",
      "    term_stats_df_list = []\n",
      "    for one_df in df_list:\n",
      "        vectorizer = CountVectorizer(min_df=min__df, max_df=max__df, max_features=max__features, ngram_range=ngram__range, stop_words=stop__words)\n",
      "        X = vectorizer.fit_transform(one_df[titleColumn])\n",
      "        word_freq_df = pd.DataFrame({'term': vectorizer.get_feature_names(), 'occurrences': np.asarray(X.sum(axis=0)).ravel().tolist()})\n",
      "        word_freq_df['probability'] = word_freq_df['occurrences']/np.sum(word_freq_df['occurrences'])\n",
      "        term_stats_df_list.append(word_freq_df)\n",
      "    return term_stats_df_list"
     ],
     "language": "python",
     "metadata": {},
     "outputs": [],
     "prompt_number": 9
    },
    {
     "cell_type": "code",
     "collapsed": false,
     "input": [
      "#def batchTermStatsDfNgrams(df_list, N, sep = ' '): -> top_ngram_stats_dataframe(df_list, N, sep = ' '):\n",
      "#Filter a list of dataframes for the N most popular Ngrams in each dataframe.\n",
      "def top_ngram_stats_dataframe(df_list, N, sep = ' '):\n",
      "    '''\n",
      "    Find the N most popular Ngrams in each dataframe from a dataframe list.\n",
      "    Each DataFrame contains the occurrence statistics of terms (including ngrams) in a corpus. \n",
      "    Ngrams are defined as terms containing the separator sep (defaulting to ' ')\n",
      "    The data frame has the from:\n",
      "           | occurrences | term | probability\n",
      "    0      |     32      |'the' |    0.09\n",
      "    1      |     ...     | ...  |   ...                     ...or something similar.\n",
      "    Input: \n",
      "    df_list: list of pandas DataFrames\n",
      "    N: number of N grams returned\n",
      "    sep: separator character for Ngrams, defaults to ' '\n",
      "    Returns:\n",
      "    ngram_df_list: a dataframe with the occurrence statistics of the N most popular Ngrams\n",
      "    '''\n",
      "    ngram_df_list = []\n",
      "    for df in df_list:\n",
      "        ngram_df_list.append(df[df['term'].str.contains(sep)].sort('occurrences', ascending = False)[:N])\n",
      "    return ngram_df_list"
     ],
     "language": "python",
     "metadata": {},
     "outputs": [],
     "prompt_number": 10
    },
    {
     "cell_type": "heading",
     "level": 5,
     "metadata": {},
     "source": [
      "Identify and combine N-grams with underscores"
     ]
    },
    {
     "cell_type": "code",
     "collapsed": false,
     "input": [
      "def popular_ngrams_list(df_list,N,sep = ' '):\n",
      "    '''\n",
      "    Return a list with the N most popular ngrams in each of the term-statistic dataframes\n",
      "    out of a term-statistic dataframe list.\n",
      "    ngrams are defined as terms containing the separator sep (defaulting to ' ')\n",
      "    The input data frames in the list have the from:\n",
      "           | occurrences | term         | probability\n",
      "    0      |     32      |'maybe ngram' |    0.09\n",
      "    1      |     ...     | ...          |   ...                     ...or something similar.\n",
      "    Input: \n",
      "    df_list: list of pandas DataFrames\n",
      "    N: number of N grams returned\n",
      "    sep: separator character for Ngrams, defaults to ' '\n",
      "    Returns:\n",
      "    ngrams_list: a list of ngram strings\n",
      "    '''\n",
      "    ngrams_df_list = top_ngram_stats_dataframe(df_list,N,sep)\n",
      "    ngrams_list = []\n",
      "    for ngrams in ngrams_df_list:\n",
      "        ngrams_list.extend(ngrams['term'].tolist())\n",
      "    #for ix,ngram in enumerate(ngrams_list):\n",
      "    #    ngrams_list[ix] = (ngram.count(' '),ngram)\n",
      "    #ngrams_list = sorted(ngrams_list,key = lambda ngram: ngram[0])[::-1]\n",
      "    return ngrams_list"
     ],
     "language": "python",
     "metadata": {},
     "outputs": [],
     "prompt_number": 11
    },
    {
     "cell_type": "code",
     "collapsed": false,
     "input": [
      "def replace_phrase(sentence,phrase,sep='_'):\n",
      "    '''\n",
      "    Replace a phrase inside a sentence, with sep separated version of the phrase.\n",
      "    e.g. replace_phrase('not a good bunny','good bunny','_') returns 'not a good_bunny'\n",
      "    The order of the words in the sentence is not maintained, use only for bag-of-words approach.\n",
      "    Also punctuation marks are not handled properly, the function assumes sentence and phrase \n",
      "    are stripped of punctuation. \n",
      "    '''\n",
      "    if set(phrase.split()) <= set(sentence.split()):\n",
      "        stripped = ' '.join(list(set(sentence.split()).difference(set(phrase.split()))))\n",
      "        parsed = stripped+' '+'_'.join(phrase.split()) \n",
      "        return parsed\n",
      "    else:\n",
      "        return sentence\n",
      "#print replace_phrase(replace_phrase('nuclear magnetic resonance of iron','nuclear magnetic resonance','_'),'nuclear magnetic','_')\n",
      "\n",
      "def replace_ngrams(sentence,ngram_list,sep='_'):\n",
      "    '''\n",
      "    Replace all ngrams from ngram_list which appear inside a sentence. Start with the longer\n",
      "    ngrams and continue to the shorter ones. This ensures that if one ngram is a subset of\n",
      "    another one, the longer one gets replaced. \n",
      "    '''\n",
      "    parsed_sentence = sentence\n",
      "    ngram_tuples_list = []\n",
      "    for ix,ngram in enumerate(ngram_list):\n",
      "        ngram_tuples_list.append((ngram.count(' '),ngram))\n",
      "    ngram_tuples_list = sorted(ngram_tuples_list,key = lambda ngram: ngram[0])[::-1]\n",
      "    for ngram_tuple in ngram_tuples_list:\n",
      "        parsed_sentence = replace_phrase(parsed_sentence,ngram_tuple[1],sep)\n",
      "    return parsed_sentence"
     ],
     "language": "python",
     "metadata": {},
     "outputs": [],
     "prompt_number": 12
    },
    {
     "cell_type": "heading",
     "level": 5,
     "metadata": {},
     "source": [
      "And finally, some plotting functions"
     ]
    },
    {
     "cell_type": "code",
     "collapsed": false,
     "input": [
      "#def plot_columns(df_list,col_list,labl_list,topic):\n",
      "#For a selected column out of a dataframe, plot the entries under trm vs their index in decreasing order\n",
      "def plot_columns(df_list,col_list,labl_list,topic):\n",
      "    '''\n",
      "    For a selected column out of a dataframe, drop the zero entries, in column trm \n",
      "    and plot the entries under trm vs their index.\n",
      "    Input\n",
      "    ------------\n",
      "        df_list: a list of term density matrix dataframes, where each df of the form\n",
      "                    | term1 | term2 | term3 ...\n",
      "        publication |\n",
      "        year        |\n",
      "            year1   |  f11  |  f12  |  f13  ...\n",
      "            year2   |  f21  |  f22  |  f23  ...\n",
      "        col_list: a list of strings, specifying terms for which I want to make plot\n",
      "        labl_list: list of strings, specifying the labels to put for each term on the plot\n",
      "        topic: a string describing the topic, to put on the title of the plot\n",
      "    '''\n",
      "    linelst = ['--o','--^','--v','--<','-->','--s','--p','--*','--x','--d']\n",
      "    for nn,trm in enumerate(col_list): \n",
      "        ilist = []\n",
      "        flist = []\n",
      "        for df in df_list[1:]:\n",
      "            try:\n",
      "                flist.extend(df.ix[:,trm].tolist())\n",
      "                ilist.extend(df.index.values.tolist())\n",
      "            except:\n",
      "                print 'pass'       \n",
      "        zero_indices = [i for i, e in enumerate(flist) if e == 0]\n",
      "        for ind in zero_indices:\n",
      "            del ilist[ind]\n",
      "            del flist[ind]\n",
      "        plt.plot(ilist , np.log10(flist),linelst[nn], alpha=0.6 , label=labl_list[nn])\n",
      "    plt.legend(bbox_to_anchor=(1.05, 1), loc=2, borderaxespad=0.)\n",
      "    plt.title('Historic interest in '+ topic)\n",
      "    plt.xlabel(\"Publication year\")\n",
      "    plt.ylabel(\"log(Occurrence frequency)\")\n",
      "    plt.show()"
     ],
     "language": "python",
     "metadata": {},
     "outputs": [],
     "prompt_number": 13
    },
    {
     "cell_type": "code",
     "collapsed": false,
     "input": [
      "#For selected columns out of a dataframe, plot a list of columns in Y_col_list vs the x_column\n",
      "def logplot_columns(df_list,x_col, y_col_list,labl_list,topic):\n",
      "    '''\n",
      "    For a selected column out of a dataframe, drop the zero entries, in column trm \n",
      "    and plot the entries under trm vs their index.\n",
      "    Input\n",
      "    ------------\n",
      "        df_list: a list of term density matrix dataframes, where each df of the form\n",
      "                    | term1 | term2 | term3 ...\n",
      "        publication |\n",
      "        year        |\n",
      "            year1   |  f11  |  f12  |  f13  ...\n",
      "            year2   |  f21  |  f22  |  f23  ...\n",
      "        x_col: the dataframe column serving as the x axis in the plot\n",
      "        y_col_list: a list of strings, specifying terms for which I want to make plot\n",
      "        labl_list: list of strings, specifying the labels to put for each term on the plot\n",
      "        topic: a string describing the topic, to put on the title of the plot\n",
      "    '''\n",
      "    linelst = ['--o','--^','--v','--<','-->','--s','--p','--*','--x','--d']\n",
      "    for nn,trm in enumerate(y_col_list): \n",
      "        xlist = []\n",
      "        ylist = []\n",
      "        for df in df_list:\n",
      "            try:\n",
      "                ylist.extend(df.ix[:,trm].tolist())\n",
      "                xlist.extend(df.ix[:,x_col].tolist())\n",
      "            except:\n",
      "                print 'pass'       \n",
      "        zero_indices = [i for i, e in enumerate(ylist) if e == 0]\n",
      "        for ind in zero_indices:\n",
      "            del xlist[ind]\n",
      "            del ylist[ind]\n",
      "        plt.plot(xlist , np.log10(ylist),linelst[nn], alpha=0.6 , label=labl_list[nn])\n",
      "    plt.legend(bbox_to_anchor=(1.05, 1), loc=2, borderaxespad=0.)\n",
      "    plt.title('Historic trends in '+ topic)\n",
      "    plt.xlabel(\"Publication year\")\n",
      "    plt.ylabel(\"log(#)\")\n",
      "    plt.show()"
     ],
     "language": "python",
     "metadata": {},
     "outputs": [],
     "prompt_number": 14
    },
    {
     "cell_type": "code",
     "collapsed": false,
     "input": [
      "#def srToTuple(sr,N):\n",
      "# Return a tuple with the N first terms in the series sr. \n",
      "def srToTuple(sr,N):\n",
      "    '''\n",
      "    Return a tuple with the N first terms in the series sr. \n",
      "    '''\n",
      "    lst = []\n",
      "    for ix in range(N):\n",
      "        lst.append(sr.iloc[ix])\n",
      "    return tuple(lst)"
     ],
     "language": "python",
     "metadata": {},
     "outputs": [],
     "prompt_number": 15
    },
    {
     "cell_type": "code",
     "collapsed": false,
     "input": [
      "#def logPlotColumn(term_stats_df, column_name, cutoff_low, cutoff_high, term_name='term', Nterms=10):\n",
      "#  Make a log plot of the values in the column of dataframe df named column_name vs their index. \n",
      "def logPlotColumn(term_stats_df, column_name, cutoff_low, cutoff_high, term_name='term', Nterms=10):\n",
      "    '''\n",
      "    Make a log plot of the values in the column of dataframe df named column_name vs their index. \n",
      "    Plot only values larger than cutoff_low and smaller than cutof_high.\n",
      "    Annotate the x-axis with the Nterms most popular terms in the \n",
      "    dataframe.\n",
      "    This is meant to be used with term_stats_df DataFrames, with structure like:\n",
      "           | occurrences | term | probability\n",
      "    0      |     32      |'the' |    0.09\n",
      "    1      |     ...     | ...  |   ...                     ...or something similar.\n",
      "    df: pandas DataFrame with one 'term' column, and one numeric column 'column_name'\n",
      "        on which to do the sorting\n",
      "    column_name: string\n",
      "    cutoff_low, cutoff_high: integers\n",
      "    term_name:string\n",
      "    Nterms: integer\n",
      "    '''\n",
      "    Y = term_stats_df.sort([column_name],ascending = False).as_matrix(columns = [column_name])\n",
      "    Y  = np.clip(Y,cutoff_low,cutoff_high)\n",
      "    X = np.linspace(1,len(Y),len(Y))\n",
      "    popular_terms = srToTuple(term_stats_df.sort([column_name], ascending = False)[term_name],Nterms)\n",
      "    ax = pl.subplot(111)\n",
      "    ax.plot(np.log10(X),np.log10(Y))\n",
      "    ax.set_title('Distribution of term popularity')\n",
      "    ax.set_xlabel('log(order index)')\n",
      "    ax.set_ylabel('log('+column_name+')')\n",
      "    ax.set_xticks((np.log10(np.linspace(1,Nterms,Nterms))))\n",
      "    ax.set_xticklabels(popular_terms,rotation = 60, size = 8)"
     ],
     "language": "python",
     "metadata": {},
     "outputs": [],
     "prompt_number": 16
    },
    {
     "cell_type": "code",
     "collapsed": false,
     "input": [
      "#def batchLogPlotColumn(df_list,column_name,cutoff_low,cutoff_high, group_list = [], term_name = 'term', Nterms=10):\n",
      "#  Same as logPlotColumn, but works on a list of DataFrames, and plots a matrix of log-plots. \n",
      "def batchLogPlotColumn(df_list,column_name,cutoff_low,cutoff_high, group_list = [], term_name = 'term', Nterms=10):\n",
      "    '''\n",
      "    Same as logPlotColumn, but works on a list of DataFrames, and plots a matrix of \n",
      "    log-plots. For each DataFrame in df_list:\n",
      "    Make a log plot of the values in the column of dataframe df named column_name. \n",
      "    Plot only values larger than cutoff_low and smaller than cutof_high.\n",
      "    Annotate the x-axis with the Nterms most popular terms in the \n",
      "    dataframe.\n",
      "    df_list: list of pandas DataFrames, each containing a 'term' column, and one numeric \n",
      "             column 'column_name', on which to do the sorting\n",
      "    column_name: string\n",
      "    cutoff_low, cutoff_high: integers\n",
      "    term_name:string\n",
      "    Nterms: integer\n",
      "    '''\n",
      "    N = len(df_list)\n",
      "    fig, axes = plt.subplots(figsize  = FigSize, nrows = int(round(N/2.)), ncols = 2)\n",
      "    for ii, df in enumerate(df_list):\n",
      "        i = ii/2\n",
      "        j = ii%2\n",
      "        Y = df.sort([column_name],ascending = False).as_matrix(columns = [column_name])\n",
      "        Y  = np.clip(Y,cutoff_low,cutoff_high)\n",
      "        X = np.linspace(1,len(Y),len(Y))\n",
      "        popular_terms = srToTuple(df.sort([column_name], ascending = False)[term_name],Nterms)\n",
      "        axes[i][j].plot(np.log10(X),np.log10(Y)) \n",
      "        try:\n",
      "            axes[i][j].set_title('Distribution of term popularity %2.2d-%2.2d' %(group_list[ii],group_list[ii+1]))\n",
      "        except:\n",
      "            axes[i][j].set_title('Distribution of term popularity %2.2d-...' %group_list[ii])\n",
      "        axes[i][j].set_xlabel('log(order index)')\n",
      "        axes[i][j].set_ylabel('log('+column_name+')')\n",
      "        axes[i][j].set_xticks((np.log10(np.linspace(1,Nterms,Nterms))))\n",
      "        axes[i][j].set_xticklabels(popular_terms,rotation = 70, size = 10)\n",
      "    fig.tight_layout()  "
     ],
     "language": "python",
     "metadata": {},
     "outputs": [],
     "prompt_number": 17
    },
    {
     "cell_type": "heading",
     "level": 2,
     "metadata": {},
     "source": [
      "Put it all together now"
     ]
    },
    {
     "cell_type": "markdown",
     "metadata": {},
     "source": [
      "Alright, after all this preparation, we are ready to start looking at what the title/year information can teach us. \n",
      "\n",
      "We will parse the data from the xml files, organize them into dataframes, and do some exploratory analysis on it. "
     ]
    },
    {
     "cell_type": "heading",
     "level": 5,
     "metadata": {},
     "source": [
      "1. Parse the data"
     ]
    },
    {
     "cell_type": "code",
     "collapsed": false,
     "input": [
      "# Physical Review Metadata\n",
      "datapath = os.path.join('aps-data','aps-dataset-metadata-2010','PR.xml')\n",
      "f = open(datapath,'r')\n",
      "PR_file = f.read()\n",
      "f.close()\n",
      "\n",
      "# Physical Review, Series I Metadata\n",
      "datapath = os.path.join('aps-data','aps-dataset-metadata-2010','PRI.xml')\n",
      "f = open(datapath,'r')\n",
      "PRI_file = f.read()\n",
      "f.close()"
     ],
     "language": "python",
     "metadata": {},
     "outputs": [],
     "prompt_number": 18
    },
    {
     "cell_type": "code",
     "collapsed": false,
     "input": [
      "# create list of dataframes, one datafame per decade\n",
      "dict_lst_pr = get_title_year_dicts(PR_file,[1900,1910,1920,1930,1940,1950,1960,1970,1980])\n",
      "df_lst_pr = dicts_to_dataframes(dict_lst_pr)\n",
      "dict_lst_pri = get_title_year_dicts(PRI_file,[1900,1910,1920,1930,1940,1950,1960,1970,1980])\n",
      "df_lst_pri = dicts_to_dataframes(dict_lst_pri)\n",
      "df_lst = concat_dataframe_lists(df_lst_pr,df_lst_pri)"
     ],
     "language": "python",
     "metadata": {},
     "outputs": [
      {
       "output_type": "stream",
       "stream": "stdout",
       "text": [
        "1  articles parsed\n",
        "10001"
       ]
      },
      {
       "output_type": "stream",
       "stream": "stdout",
       "text": [
        "  articles parsed\n",
        "20001"
       ]
      },
      {
       "output_type": "stream",
       "stream": "stdout",
       "text": [
        "  articles parsed\n",
        "30001"
       ]
      },
      {
       "output_type": "stream",
       "stream": "stdout",
       "text": [
        "  articles parsed\n",
        "40001"
       ]
      },
      {
       "output_type": "stream",
       "stream": "stdout",
       "text": [
        "  articles parsed\n",
        "1"
       ]
      },
      {
       "output_type": "stream",
       "stream": "stdout",
       "text": [
        "  articles parsed\n"
       ]
      }
     ],
     "prompt_number": 19
    },
    {
     "cell_type": "code",
     "collapsed": false,
     "input": [
      "df_lst = df_lst[:7] # remove last dataframe from list\n",
      "df_lst[1].head()\n",
      "#re.sub('-',' ',df_lst[6]['title'][17])"
     ],
     "language": "python",
     "metadata": {},
     "outputs": [
      {
       "html": [
        "<div style=\"max-height:1000px;max-width:1500px;overflow:auto;\">\n",
        "<table border=\"1\" class=\"dataframe\">\n",
        "  <thead>\n",
        "    <tr style=\"text-align: right;\">\n",
        "      <th></th>\n",
        "      <th>publication_year</th>\n",
        "      <th>title</th>\n",
        "      <th>title_stripped</th>\n",
        "    </tr>\n",
        "  </thead>\n",
        "  <tbody>\n",
        "    <tr>\n",
        "      <th>0</th>\n",
        "      <td> 1913</td>\n",
        "      <td> The Velocity of Electrons in the Photo-electri...</td>\n",
        "      <td> electric light length wave electron photo velo...</td>\n",
        "    </tr>\n",
        "    <tr>\n",
        "      <th>1</th>\n",
        "      <td> 1913</td>\n",
        "      <td> Announcement of the Transfer of the Review to ...</td>\n",
        "      <td>   announcement transfer society american physical</td>\n",
        "    </tr>\n",
        "    <tr>\n",
        "      <th>2</th>\n",
        "      <td> 1913</td>\n",
        "      <td> Diffraction and Secondary Radiation with Elect...</td>\n",
        "      <td> short electric radiation diffraction wave leng...</td>\n",
        "    </tr>\n",
        "    <tr>\n",
        "      <th>3</th>\n",
        "      <td> 1913</td>\n",
        "      <td>      On the Comparative Absorption of  and X Rays</td>\n",
        "      <td>                       xray comparative absorption</td>\n",
        "    </tr>\n",
        "    <tr>\n",
        "      <th>4</th>\n",
        "      <td> 1913</td>\n",
        "      <td>            Study of Resistance of Carbon Contacts</td>\n",
        "      <td>                         contact carbon resistance</td>\n",
        "    </tr>\n",
        "  </tbody>\n",
        "</table>\n",
        "<p>5 rows \u00d7 3 columns</p>\n",
        "</div>"
       ],
       "metadata": {},
       "output_type": "pyout",
       "prompt_number": 20,
       "text": [
        "   publication_year                                              title                                     title_stripped\n",
        "0              1913  The Velocity of Electrons in the Photo-electri...  electric light length wave electron photo velo...\n",
        "1              1913  Announcement of the Transfer of the Review to ...    announcement transfer society american physical\n",
        "2              1913  Diffraction and Secondary Radiation with Elect...  short electric radiation diffraction wave leng...\n",
        "3              1913       On the Comparative Absorption of  and X Rays                        xray comparative absorption\n",
        "4              1913             Study of Resistance of Carbon Contacts                          contact carbon resistance\n",
        "\n",
        "[5 rows x 3 columns]"
       ]
      }
     ],
     "prompt_number": 20
    },
    {
     "cell_type": "heading",
     "level": 5,
     "metadata": {},
     "source": [
      "2. Look at term occurrences in the titles and identify the popular N-grams (for N up to 3)"
     ]
    },
    {
     "cell_type": "code",
     "collapsed": false,
     "input": [
      "term_stats_df_list = batchTermStatsDf(df_lst, 'title_stripped', min__df = 1, max__df = 0.3, max__features = 1000, ngram__range = (1,3), stop__words = sw)"
     ],
     "language": "python",
     "metadata": {},
     "outputs": [],
     "prompt_number": 21
    },
    {
     "cell_type": "code",
     "collapsed": false,
     "input": [
      "# Make a list of the most popular N-grams\n",
      "ngrams_list = popular_ngrams_list(term_stats_df_list,20)\n",
      "print ngrams_list"
     ],
     "language": "python",
     "metadata": {},
     "outputs": [
      {
       "output_type": "stream",
       "stream": "stdout",
       "text": [
        "[u'specific heat', u'absorption gas', u'circuit resonance', u'telegraph circuit resonance', u'cell cadmium', u'temperature gas', u'photo electric', u'resonance wireles', u'electric magnetic', u'telegraph circuit', u'experiment telegraph', u'experiment telegraph circuit', u'circuit resonance wireles', u'spectrum red', u'red infra', u'dioxide carbon', u'coefficient linear', u'linear expansion', u'capacity resistance', u'coefficient linear expansion', u'electric photo', u'specific heat', u'fluorescence absorption', u'gas cathode', u'spectrum xray', u'lecher vibration', u'magnetic field', u'wave length', u'light selenium', u'emission xray', u'system free', u'discharge spark', u'dioxide carbon', u'ionization collision', u'length wave', u'temperature magnetic', u'wave curf', u'absorption uranyl', u'air pressure', u'wire elastic', u'absorption spectrum', u'spectrum band', u'spectrum infra', u'magnetic field', u'xray length', u'ionization electron', u'xray crystal', u'xray electron', u'molecule spectrum', u'gas ionization', u'electric photo', u'susceptibility magnetic', u'absorption spectrum infra', u'xray intensity', u'wave xray', u'band intensity', u'specific heat', u'28 29', u'wave xray length', u'frequency radio', u'structure hyperfine', u'xray crystal', u'absorption spectrum', u'spectrum infrared', u'crystal single', u'scattering neutron', u'gamma ray', u'cosmic ray', u'nuclear magnetic', u'spectrum band', u'molecule spectrum', u'magnetic moment', u'field electron', u'isotopic constitution', u'particle alpha', u'xray length', u'disintegration neutron', u'ionization electron', u'fine structure', u'line structure', u'scattering neutron', u'gamma ray', u'section cross', u'spectrum betum', u'spectrum microwave', u'structure hyperfine', u'cosmic ray', u'crystal single', u'cosmic primary', u'radioactive isotope', u'scattering proton', u'field electron', u'nuclear magnetic', u'penetrating particle', u'xray crystal', u'magnetic moment', u'distribution angular', u'betum ray', u'fine structure', u'uranium fission', u'section cross', u'gamma ray', u'scattering neutron', u'structure hyperfine', u'crystal single', u'inelastic scattering', u'distribution angular', u'nuclear magnetic', u'scattering proton', u'proton mev', u'meson scattering', u'spectrum betum', u'mev scattering', u'resonance paramagnetic', u'correlation angular', u'magnetic moment', u'pion nucleon', u'cross neutron', u'spectrum microwave', u'production meson', u'section cross', u'nuclear magnetic', u'inelastic scattering', u'resonance paramagnetic', u'scattering neutron', u'crystal single', u'structure hyperfine', u'resonance spin', u'gamma ray', u'pion nucleon', u'ion electron', u'specific heat', u'sum rule', u'proton mev', u'field electron', u'transition metal', u'nuclear resonance', u'angular momentum', u'constant coupling', u'section differential']\n"
       ]
      }
     ],
     "prompt_number": 22
    },
    {
     "cell_type": "heading",
     "level": 6,
     "metadata": {},
     "source": [
      "Join the identified N-grams in the titles: Replace the N-grams with underscore-separated strings in the titles of the dataframes"
     ]
    },
    {
     "cell_type": "code",
     "collapsed": false,
     "input": [
      "#prsd = replace_ngrams('nuclear magnetic resonance and infra red absorption spectrum of gold nanoparticles',ngrams_list,'_')\n",
      "#print prsd\n",
      "for ix,df in enumerate(df_lst):\n",
      "    for jx,ttl in enumerate(df['title_stripped']):\n",
      "        df_lst[ix]['title_stripped'][jx] = replace_ngrams(ttl,ngrams_list,'_')"
     ],
     "language": "python",
     "metadata": {},
     "outputs": [],
     "prompt_number": 23
    },
    {
     "cell_type": "heading",
     "level": 6,
     "metadata": {},
     "source": [
      "Now, make a term-statistic dataframe using the post-processed titles with the joined N-grams"
     ]
    },
    {
     "cell_type": "code",
     "collapsed": false,
     "input": [
      "term_stats_df_list = batchTermStatsDf(df_lst, 'title_stripped', min__df = 1, max__df = 0.3, max__features = 1000, ngram__range = (1,1), stop__words = sw)"
     ],
     "language": "python",
     "metadata": {},
     "outputs": [],
     "prompt_number": 24
    },
    {
     "cell_type": "code",
     "collapsed": false,
     "input": [
      "#term_stats_df_list[1].sort(['occurrences'],ascending = False).head(50)"
     ],
     "language": "python",
     "metadata": {},
     "outputs": [],
     "prompt_number": 30
    },
    {
     "cell_type": "heading",
     "level": 5,
     "metadata": {},
     "source": [
      "3. Look at the distribution of terms frequencies for each decade"
     ]
    },
    {
     "cell_type": "code",
     "collapsed": false,
     "input": [
      "FigSize = (22,18)\n",
      "batchLogPlotColumn(term_stats_df_list,'occurrences',10,1e4, group_list = [1900,1910,1920,1930,1940,1950,1960,1970], term_name = 'term', Nterms=10)"
     ],
     "language": "python",
     "metadata": {},
     "outputs": [],
     "prompt_number": 25
    },
    {
     "cell_type": "code",
     "collapsed": false,
     "input": [
      "#logplot_arr_column(term_prob_lst, 'frequency', 10, 1e6)"
     ],
     "language": "python",
     "metadata": {},
     "outputs": [],
     "prompt_number": 26
    },
    {
     "cell_type": "markdown",
     "metadata": {},
     "source": [
      "I know that most of the time people focus on the scaling behavior of this distribution, i.e. the value of the exponent. \n",
      "\n",
      "What I can say at the moment is that the intercepts of the curves above seem to hold pretty well for an exponent close\n",
      "to -1. However, all of the curves show a little bit of curvature, e.g. they might fall closer to a 1/(occurrence+offset)\n",
      "law. "
     ]
    },
    {
     "cell_type": "markdown",
     "metadata": {},
     "source": [
      "What I find the most interesting though, are the humps appearing between index 3 and 20 on some decades. Do these have to \n",
      "do with contemporary topics, or some other  grouping of terms (i.e. nuclear+magnetic+resonance in thge 60's)? \n",
      "I'll have to get back to this question."
     ]
    },
    {
     "cell_type": "heading",
     "level": 5,
     "metadata": {},
     "source": [
      "4. Look at the historic trend of term diversity"
     ]
    },
    {
     "cell_type": "code",
     "collapsed": false,
     "input": [
      "years_list = get_title_year_memtest(PR_file,1900,1980)\n",
      "years_list.extend(get_title_year_memtest(PRI_file,1900,1980))\n",
      "years_list = list(set(years_list))\n",
      "years_list.sort()"
     ],
     "language": "python",
     "metadata": {},
     "outputs": [
      {
       "output_type": "stream",
       "stream": "stdout",
       "text": [
        "1  articles parsed\n",
        "20001"
       ]
      },
      {
       "output_type": "stream",
       "stream": "stdout",
       "text": [
        "  articles parsed\n",
        "40001"
       ]
      },
      {
       "output_type": "stream",
       "stream": "stdout",
       "text": [
        "  articles parsed\n",
        "1"
       ]
      },
      {
       "output_type": "stream",
       "stream": "stdout",
       "text": [
        "  articles parsed\n"
       ]
      }
     ],
     "prompt_number": 61
    },
    {
     "cell_type": "code",
     "collapsed": false,
     "input": [
      "# join all the dataframes into one\n",
      "df = pd.concat(df_lst, ignore_index=True)\n",
      "df.head()"
     ],
     "language": "python",
     "metadata": {},
     "outputs": [
      {
       "html": [
        "<div style=\"max-height:1000px;max-width:1500px;overflow:auto;\">\n",
        "<table border=\"1\" class=\"dataframe\">\n",
        "  <thead>\n",
        "    <tr style=\"text-align: right;\">\n",
        "      <th></th>\n",
        "      <th>publication_year</th>\n",
        "      <th>title</th>\n",
        "      <th>title_stripped</th>\n",
        "    </tr>\n",
        "  </thead>\n",
        "  <tbody>\n",
        "    <tr>\n",
        "      <th>0</th>\n",
        "      <td> 1901</td>\n",
        "      <td> A Modification of the Usual Method of Determin...</td>\n",
        "      <td> influence trus concentration transference valu...</td>\n",
        "    </tr>\n",
        "    <tr>\n",
        "      <th>1</th>\n",
        "      <td> 1901</td>\n",
        "      <td>    False Spectra from the Rowland Concave Grating</td>\n",
        "      <td>            grating false rowland concave spectrum</td>\n",
        "    </tr>\n",
        "    <tr>\n",
        "      <th>2</th>\n",
        "      <td> 1901</td>\n",
        "      <td> Determination of Poisson's Ratio by Means of a...</td>\n",
        "      <td>         ratio apparatus interference poisson mean</td>\n",
        "    </tr>\n",
        "    <tr>\n",
        "      <th>3</th>\n",
        "      <td> 1901</td>\n",
        "      <td> The Use of the Bicycle Wheel in Illustrating t...</td>\n",
        "      <td>    wheel bicycle principle illustrating gyroscope</td>\n",
        "    </tr>\n",
        "    <tr>\n",
        "      <th>4</th>\n",
        "      <td> 1901</td>\n",
        "      <td>                An Automatic Temperature Regulator</td>\n",
        "      <td>                   regulator automatic temperature</td>\n",
        "    </tr>\n",
        "  </tbody>\n",
        "</table>\n",
        "<p>5 rows \u00d7 3 columns</p>\n",
        "</div>"
       ],
       "metadata": {},
       "output_type": "pyout",
       "prompt_number": 26,
       "text": [
        "   publication_year                                              title                                     title_stripped\n",
        "0              1901  A Modification of the Usual Method of Determin...  influence trus concentration transference valu...\n",
        "1              1901     False Spectra from the Rowland Concave Grating             grating false rowland concave spectrum\n",
        "2              1901  Determination of Poisson's Ratio by Means of a...          ratio apparatus interference poisson mean\n",
        "3              1901  The Use of the Bicycle Wheel in Illustrating t...     wheel bicycle principle illustrating gyroscope\n",
        "4              1901                 An Automatic Temperature Regulator                    regulator automatic temperature\n",
        "\n",
        "[5 rows x 3 columns]"
       ]
      }
     ],
     "prompt_number": 26
    },
    {
     "cell_type": "code",
     "collapsed": false,
     "input": [
      "from scipy.stats.mstats import gmean\n",
      "yearly_stats_dict = {'year':[], 'num_titles':[], 'unique_terms':[], 'mean_prob_yr':[], 'median_prob_yr':[], 'gmean_prob_yr':[]}\n",
      "for year in range(1901,1970):\n",
      "    yearly_stats_dict['year'].append(year)\n",
      "    df_yr = df[df.publication_year==year]\n",
      "    yearly_stats_dict['num_titles'].append(df_yr.shape[0])\n",
      "    supertitle = ''\n",
      "    for ttl in df_yr.title_stripped:\n",
      "        supertitle = supertitle+' '+ttl\n",
      "    yearly_stats_dict['unique_terms'].append(len(set(supertitle.split())))\n",
      "    term_stats_yr = batchTermStatsDf([df_yr], 'title_stripped', min__df = 1, max__df = 0.3, max__features = 10000, ngram__range = (1,1), stop__words = sw)\n",
      "    yearly_stats_dict['mean_prob_yr'].append(term_stats_yr[0].probability.mean())\n",
      "    yearly_stats_dict['median_prob_yr'].append(term_stats_yr[0].probability.median())\n",
      "    yearly_stats_dict['gmean_prob_yr'].append(gmean(term_stats_yr[0].probability))\n",
      "yearly_stats_df = pd.DataFrame(yearly_stats_dict)\n",
      "yearly_stats_df.head()"
     ],
     "language": "python",
     "metadata": {},
     "outputs": [
      {
       "html": [
        "<div style=\"max-height:1000px;max-width:1500px;overflow:auto;\">\n",
        "<table border=\"1\" class=\"dataframe\">\n",
        "  <thead>\n",
        "    <tr style=\"text-align: right;\">\n",
        "      <th></th>\n",
        "      <th>gmean_prob_yr</th>\n",
        "      <th>mean_prob_yr</th>\n",
        "      <th>median_prob_yr</th>\n",
        "      <th>num_titles</th>\n",
        "      <th>unique_terms</th>\n",
        "      <th>year</th>\n",
        "    </tr>\n",
        "  </thead>\n",
        "  <tbody>\n",
        "    <tr>\n",
        "      <th>0</th>\n",
        "      <td> 0.004428</td>\n",
        "      <td> 0.004854</td>\n",
        "      <td> 0.003690</td>\n",
        "      <td> 58</td>\n",
        "      <td> 206</td>\n",
        "      <td> 1901</td>\n",
        "    </tr>\n",
        "    <tr>\n",
        "      <th>1</th>\n",
        "      <td> 0.004651</td>\n",
        "      <td> 0.005155</td>\n",
        "      <td> 0.003802</td>\n",
        "      <td> 66</td>\n",
        "      <td> 195</td>\n",
        "      <td> 1902</td>\n",
        "    </tr>\n",
        "    <tr>\n",
        "      <th>2</th>\n",
        "      <td> 0.004196</td>\n",
        "      <td> 0.004608</td>\n",
        "      <td> 0.003509</td>\n",
        "      <td> 75</td>\n",
        "      <td> 217</td>\n",
        "      <td> 1903</td>\n",
        "    </tr>\n",
        "    <tr>\n",
        "      <th>3</th>\n",
        "      <td> 0.004128</td>\n",
        "      <td> 0.004566</td>\n",
        "      <td> 0.003390</td>\n",
        "      <td> 70</td>\n",
        "      <td> 219</td>\n",
        "      <td> 1904</td>\n",
        "    </tr>\n",
        "    <tr>\n",
        "      <th>4</th>\n",
        "      <td> 0.004872</td>\n",
        "      <td> 0.005291</td>\n",
        "      <td> 0.004115</td>\n",
        "      <td> 63</td>\n",
        "      <td> 190</td>\n",
        "      <td> 1905</td>\n",
        "    </tr>\n",
        "  </tbody>\n",
        "</table>\n",
        "<p>5 rows \u00d7 6 columns</p>\n",
        "</div>"
       ],
       "metadata": {},
       "output_type": "pyout",
       "prompt_number": 27,
       "text": [
        "   gmean_prob_yr  mean_prob_yr  median_prob_yr  num_titles  unique_terms  year\n",
        "0       0.004428      0.004854        0.003690          58           206  1901\n",
        "1       0.004651      0.005155        0.003802          66           195  1902\n",
        "2       0.004196      0.004608        0.003509          75           217  1903\n",
        "3       0.004128      0.004566        0.003390          70           219  1904\n",
        "4       0.004872      0.005291        0.004115          63           190  1905\n",
        "\n",
        "[5 rows x 6 columns]"
       ]
      }
     ],
     "prompt_number": 27
    },
    {
     "cell_type": "markdown",
     "metadata": {},
     "source": [
      "In what follows, we will look at the historic trends of individual terms. Before we dive into this, we can look at the diversity of \n",
      "terms by year. There are a few numbers to look at: total number of publications and scientific terms appearing each year. We also look at the mean, geometric mean, and median of the term occurrence probability for a given term and a certain year. "
     ]
    },
    {
     "cell_type": "markdown",
     "metadata": {},
     "source": [
      "Let's plot these:"
     ]
    },
    {
     "cell_type": "code",
     "collapsed": false,
     "input": [
      "logplot_columns([yearly_stats_df],'year', ['unique_terms','num_titles'],['Number of unique terms','Number of articles'],'journal titles')\n",
      "logplot_columns([yearly_stats_df],'year', ['mean_prob_yr','gmean_prob_yr','median_prob_yr'], ['Mean probability','Geom. mean probability','Median probability'], 'journal titles II')"
     ],
     "language": "python",
     "metadata": {},
     "outputs": [],
     "prompt_number": 30
    },
    {
     "cell_type": "markdown",
     "metadata": {},
     "source": [
      "These two plots are fascinating! You can see the 20th century industrial and military history of the\n",
      "United States through the Physical Review publication titles. Moreover, you can get a glimpse of the \n",
      "trends within Physics itself!"
     ]
    },
    {
     "cell_type": "markdown",
     "metadata": {},
     "source": [
      "Around the turn of the century there is a modest number of publications.Perhaps good publications were ending up in the prestigious \n",
      "European journals at the time. In addition, there is fairly small diversity in the topics which are covered in publications, some 0.5 % \n",
      "probability of a given term to appear in a randomly chosen title. In all, the statistics during this period is poor. "
     ]
    },
    {
     "cell_type": "markdown",
     "metadata": {},
     "source": [
      "Around 1920, we seem to enter a period of intensified research. By looking at the terms which are the most popular \n",
      "during that time, it is pursuit of the early quantum physics which seems to prevail. The fashionable terms of the \n",
      "20's are related to spectroscopy, as compared to electricity and thermodynamics which seemed to prevail before 1920."
     ]
    },
    {
     "cell_type": "markdown",
     "metadata": {},
     "source": [
      "The boom of quantum physics continues until the 1930's, when research seems to take a hit and stay flat in terms of quantity and\n",
      "diversity of publications. That's no surprise, with the entire economy sinking, why would Physics research stay afloat? Interestingly, \n",
      "the New Deal fails to give research even a fraction of its previous momentum, although it does make for a minor uptick starting \n",
      "between 1933 and 1935."
     ]
    },
    {
     "cell_type": "markdown",
     "metadata": {},
     "source": [
      "The most striking feature in these plots is what happens between 1940 and 1950. The war years cause an incredible dip to the number \n",
      "of works that get published (research becoming war oriented and secret?). The same is true of the number of terms found in the \n",
      "published works, pointing to reduced diversity of the published works (although the hit to diversity is less severe than the hit to\n",
      "publishability). Both these trends can probably be traced to a 'cut the fat' approach to research during the war years. "
     ]
    },
    {
     "cell_type": "markdown",
     "metadata": {},
     "source": [
      "What is very interesting, is that the dip in diversity and publishability happens before the beginning of the Manhattan project in 1942. Thus, we cannot blame all of this change to 'nucular' technology. There were a number of technologies which were very essential to the war effort, and very much related to Physics research: RF engineering to develop Radar technology and communications systems, missiles and ballistics, submarine technology, optics and camuflage, 'War Metallurgy' of steels, and the effects of 'Impact and Explosion' (http://www.loc.gov/rr/scitech/trs/trsosrd.html). Of course, we're always tempted to think of the Manhattan project as the most decisive contribution of Physicists to the war effort. That is not an unjustified conclusion: After the end of this war, and of the Manhattan project, we became for the first time able to destroy our entire planet and most life on it within a matter of days!"
     ]
    },
    {
     "cell_type": "markdown",
     "metadata": {},
     "source": [
      "At the end of the war, ressearch diversity and publishability starts a fast recovery which continues until around 1950. After that, the 1950's hit a mysterious period of stagnation, if not decline. Does this have to do with the unstable economic conditions of the 1950's and the slump at the end of the decade? Unfortunately I am a Physicist, not an Economist to say . The issue is possibly more complex than a simplistic poor economy, poor research relation. During the 1950's the economy was very much focused on making cars and electrical technology, areas where Physics innovation was not particularly useful, especially with the legacy of the war years. Indeed, the list of popular Physics research terms during the 1950's revolves around nuclear and high-energy Physics. "
     ]
    },
    {
     "cell_type": "markdown",
     "metadata": {},
     "source": [
      "Continuing on to the 1960's, one understands why so many people are nostalgic about it! The stagnant trends in research turn around circa 1960. There is an upward trend in the number of Physics terms in use (a proxy of new ideas or diversity), but an even faster increase in the number of publications that appear each year. This probably has to do with the improvement of economic conditions in the 1960's but partially also due to the birth of electronics. Information technology and microelectronics take off during this era, and Physicists are frontrunners in this race. It is the birth of 'Solid State Physics'. The Beatles were formed in Liverpool in 1960, but the first transistor was made in New Jersey 3 years earlier. Acid and the quantum theory of solids, what an era indeed!"
     ]
    },
    {
     "cell_type": "markdown",
     "metadata": {},
     "source": [
      "There is one strange aspect of the total number of publications and the total number of research-related terms in the sixties: It is the first time when the gap between the number of Physics terms and the number of articles closes (especially after 1967). Is this a merely a result of homogenizing and smoothing out of the terminology used in Physical Review publications, a result of changes in the diversity of papers appearing in the Physical Review, or does it signify a slowing down of the pace of expanding science to new realms -fewer new terms being introduced, while older terms are studied in more depth. Perhaps a good question for historians of science!"
     ]
    },
    {
     "cell_type": "code",
     "collapsed": false,
     "input": [
      "## Print the 10 most popular terms from each decade \n",
      "#for dd in range(8):\n",
      "#    print 'Ten most popular terms between 19%02d and 19%02d' %(10*dd,10*(dd+1))\n",
      "#    print term_prob_lst[dd].sort(['density'], ascending = False).head(10)\n",
      "#\n",
      "## Create list of the ten most popular terms for each decade\n",
      "#popular_list = []\n",
      "#for df in term_prob_lst:\n",
      "#    popular_list.extend(df.sort(['density'], ascending = False).index.tolist()[:2])\n",
      "#popular_list = list(set(popular_list))\n",
      "#print 'List of 2 most popular terms from each decade'\n",
      "#print (popular_list)"
     ],
     "language": "python",
     "metadata": {},
     "outputs": [],
     "prompt_number": 64
    },
    {
     "cell_type": "code",
     "collapsed": false,
     "input": [
      "# Term Density Matrix using Scikit-Learn CountVectorizer implementation\n",
      "tdm_list = []\n",
      "tdm_list_mean = []\n",
      "for df in df_lst:\n",
      "    tdm = df2tdm(df,'title_stripped','publication_year', min__df = 1, max__df = 0.3, max__features = 1000, ngram__range = (1,1), stop__words = sw)\n",
      "    tdm_list.append(tdm)\n",
      "    tdm_df_grouped = tdm.groupby('publication_year')\n",
      "    tdm_list_mean.append(tdm_df_grouped.mean())"
     ],
     "language": "python",
     "metadata": {},
     "outputs": [],
     "prompt_number": 33
    },
    {
     "cell_type": "code",
     "collapsed": false,
     "input": [
      "tdm_list_mean[0].head()"
     ],
     "language": "python",
     "metadata": {},
     "outputs": [
      {
       "html": [
        "<div style=\"max-height:1000px;max-width:1500px;overflow:auto;\">\n",
        "<table border=\"1\" class=\"dataframe\">\n",
        "  <thead>\n",
        "    <tr style=\"text-align: right;\">\n",
        "      <th></th>\n",
        "      <th>1600</th>\n",
        "      <th>186</th>\n",
        "      <th>1905</th>\n",
        "      <th>200</th>\n",
        "      <th>aberration</th>\n",
        "      <th>absolute</th>\n",
        "      <th>absorbed</th>\n",
        "      <th>absorbing</th>\n",
        "      <th>absorption</th>\n",
        "      <th>absorption_gas</th>\n",
        "      <th>absorption_spectrum</th>\n",
        "      <th>absorption_spectrum_infra</th>\n",
        "      <th>ac</th>\n",
        "      <th>accompanying</th>\n",
        "      <th>acetylene</th>\n",
        "      <th>achromatic</th>\n",
        "      <th>acid</th>\n",
        "      <th>acquired</th>\n",
        "      <th>action</th>\n",
        "      <th>active</th>\n",
        "      <th>activity</th>\n",
        "      <th>adjustment</th>\n",
        "      <th>advancement</th>\n",
        "      <th>ae</th>\n",
        "      <th>affecting</th>\n",
        "      <th>afterglow</th>\n",
        "      <th>aid</th>\n",
        "      <th>air</th>\n",
        "      <th>air_pressure</th>\n",
        "      <th>alcohol</th>\n",
        "      <th></th>\n",
        "    </tr>\n",
        "    <tr>\n",
        "      <th>publication_year</th>\n",
        "      <th></th>\n",
        "      <th></th>\n",
        "      <th></th>\n",
        "      <th></th>\n",
        "      <th></th>\n",
        "      <th></th>\n",
        "      <th></th>\n",
        "      <th></th>\n",
        "      <th></th>\n",
        "      <th></th>\n",
        "      <th></th>\n",
        "      <th></th>\n",
        "      <th></th>\n",
        "      <th></th>\n",
        "      <th></th>\n",
        "      <th></th>\n",
        "      <th></th>\n",
        "      <th></th>\n",
        "      <th></th>\n",
        "      <th></th>\n",
        "      <th></th>\n",
        "      <th></th>\n",
        "      <th></th>\n",
        "      <th></th>\n",
        "      <th></th>\n",
        "      <th></th>\n",
        "      <th></th>\n",
        "      <th></th>\n",
        "      <th></th>\n",
        "      <th></th>\n",
        "    </tr>\n",
        "  </thead>\n",
        "  <tbody>\n",
        "    <tr>\n",
        "      <th>1901</th>\n",
        "      <td> 0.000000</td>\n",
        "      <td> 0.000000</td>\n",
        "      <td> 0</td>\n",
        "      <td> 0.000000</td>\n",
        "      <td> 0</td>\n",
        "      <td> 0.017241</td>\n",
        "      <td> 0</td>\n",
        "      <td> 0.000000</td>\n",
        "      <td> 0.000000</td>\n",
        "      <td> 0</td>\n",
        "      <td> 0.017241</td>\n",
        "      <td> 0.000000</td>\n",
        "      <td> 0</td>\n",
        "      <td> 0</td>\n",
        "      <td> 0.017241</td>\n",
        "      <td> 0.000000</td>\n",
        "      <td> 0.000000</td>\n",
        "      <td> 0</td>\n",
        "      <td> 0.034483</td>\n",
        "      <td> 0</td>\n",
        "      <td> 0</td>\n",
        "      <td> 0.000000</td>\n",
        "      <td> 0.000000</td>\n",
        "      <td> 0.000000</td>\n",
        "      <td> 0</td>\n",
        "      <td> 0</td>\n",
        "      <td> 0</td>\n",
        "      <td> 0.017241</td>\n",
        "      <td> 0.000000</td>\n",
        "      <td> 0.000000</td>\n",
        "      <td>...</td>\n",
        "    </tr>\n",
        "    <tr>\n",
        "      <th>1902</th>\n",
        "      <td> 0.000000</td>\n",
        "      <td> 0.000000</td>\n",
        "      <td> 0</td>\n",
        "      <td> 0.000000</td>\n",
        "      <td> 0</td>\n",
        "      <td> 0.000000</td>\n",
        "      <td> 0</td>\n",
        "      <td> 0.000000</td>\n",
        "      <td> 0.000000</td>\n",
        "      <td> 0</td>\n",
        "      <td> 0.000000</td>\n",
        "      <td> 0.000000</td>\n",
        "      <td> 0</td>\n",
        "      <td> 0</td>\n",
        "      <td> 0.015152</td>\n",
        "      <td> 0.000000</td>\n",
        "      <td> 0.000000</td>\n",
        "      <td> 0</td>\n",
        "      <td> 0.015152</td>\n",
        "      <td> 0</td>\n",
        "      <td> 0</td>\n",
        "      <td> 0.000000</td>\n",
        "      <td> 0.000000</td>\n",
        "      <td> 0.015152</td>\n",
        "      <td> 0</td>\n",
        "      <td> 0</td>\n",
        "      <td> 0</td>\n",
        "      <td> 0.075758</td>\n",
        "      <td> 0.000000</td>\n",
        "      <td> 0.000000</td>\n",
        "      <td>...</td>\n",
        "    </tr>\n",
        "    <tr>\n",
        "      <th>1903</th>\n",
        "      <td> 0.000000</td>\n",
        "      <td> 0.013333</td>\n",
        "      <td> 0</td>\n",
        "      <td> 0.000000</td>\n",
        "      <td> 0</td>\n",
        "      <td> 0.000000</td>\n",
        "      <td> 0</td>\n",
        "      <td> 0.013333</td>\n",
        "      <td> 0.013333</td>\n",
        "      <td> 0</td>\n",
        "      <td> 0.000000</td>\n",
        "      <td> 0.000000</td>\n",
        "      <td> 0</td>\n",
        "      <td> 0</td>\n",
        "      <td> 0.013333</td>\n",
        "      <td> 0.000000</td>\n",
        "      <td> 0.000000</td>\n",
        "      <td> 0</td>\n",
        "      <td> 0.000000</td>\n",
        "      <td> 0</td>\n",
        "      <td> 0</td>\n",
        "      <td> 0.000000</td>\n",
        "      <td> 0.013333</td>\n",
        "      <td> 0.000000</td>\n",
        "      <td> 0</td>\n",
        "      <td> 0</td>\n",
        "      <td> 0</td>\n",
        "      <td> 0.013333</td>\n",
        "      <td> 0.013333</td>\n",
        "      <td> 0.000000</td>\n",
        "      <td>...</td>\n",
        "    </tr>\n",
        "    <tr>\n",
        "      <th>1904</th>\n",
        "      <td> 0.014286</td>\n",
        "      <td> 0.000000</td>\n",
        "      <td> 0</td>\n",
        "      <td> 0.000000</td>\n",
        "      <td> 0</td>\n",
        "      <td> 0.000000</td>\n",
        "      <td> 0</td>\n",
        "      <td> 0.000000</td>\n",
        "      <td> 0.028571</td>\n",
        "      <td> 0</td>\n",
        "      <td> 0.000000</td>\n",
        "      <td> 0.000000</td>\n",
        "      <td> 0</td>\n",
        "      <td> 0</td>\n",
        "      <td> 0.000000</td>\n",
        "      <td> 0.000000</td>\n",
        "      <td> 0.014286</td>\n",
        "      <td> 0</td>\n",
        "      <td> 0.000000</td>\n",
        "      <td> 0</td>\n",
        "      <td> 0</td>\n",
        "      <td> 0.000000</td>\n",
        "      <td> 0.000000</td>\n",
        "      <td> 0.000000</td>\n",
        "      <td> 0</td>\n",
        "      <td> 0</td>\n",
        "      <td> 0</td>\n",
        "      <td> 0.071429</td>\n",
        "      <td> 0.000000</td>\n",
        "      <td> 0.028571</td>\n",
        "      <td>...</td>\n",
        "    </tr>\n",
        "    <tr>\n",
        "      <th>1905</th>\n",
        "      <td> 0.000000</td>\n",
        "      <td> 0.000000</td>\n",
        "      <td> 0</td>\n",
        "      <td> 0.015873</td>\n",
        "      <td> 0</td>\n",
        "      <td> 0.031746</td>\n",
        "      <td> 0</td>\n",
        "      <td> 0.000000</td>\n",
        "      <td> 0.031746</td>\n",
        "      <td> 0</td>\n",
        "      <td> 0.000000</td>\n",
        "      <td> 0.031746</td>\n",
        "      <td> 0</td>\n",
        "      <td> 0</td>\n",
        "      <td> 0.000000</td>\n",
        "      <td> 0.015873</td>\n",
        "      <td> 0.000000</td>\n",
        "      <td> 0</td>\n",
        "      <td> 0.015873</td>\n",
        "      <td> 0</td>\n",
        "      <td> 0</td>\n",
        "      <td> 0.015873</td>\n",
        "      <td> 0.000000</td>\n",
        "      <td> 0.000000</td>\n",
        "      <td> 0</td>\n",
        "      <td> 0</td>\n",
        "      <td> 0</td>\n",
        "      <td> 0.047619</td>\n",
        "      <td> 0.000000</td>\n",
        "      <td> 0.000000</td>\n",
        "      <td>...</td>\n",
        "    </tr>\n",
        "  </tbody>\n",
        "</table>\n",
        "<p>5 rows \u00d7 1000 columns</p>\n",
        "</div>"
       ],
       "metadata": {},
       "output_type": "pyout",
       "prompt_number": 36,
       "text": [
        "                      1600       186  1905       200  aberration  absolute  absorbed  absorbing  absorption  absorption_gas  absorption_spectrum  absorption_spectrum_infra  ac  accompanying  acetylene  achromatic      acid  acquired    action  active  activity  adjustment  advancement        ae  affecting  afterglow  aid       air  air_pressure   alcohol    \n",
        "publication_year                                                                                                                                                                                                                                                                                                                                                        \n",
        "1901              0.000000  0.000000     0  0.000000           0  0.017241         0   0.000000    0.000000               0             0.017241                   0.000000   0             0   0.017241    0.000000  0.000000         0  0.034483       0         0    0.000000     0.000000  0.000000          0          0    0  0.017241      0.000000  0.000000 ...\n",
        "1902              0.000000  0.000000     0  0.000000           0  0.000000         0   0.000000    0.000000               0             0.000000                   0.000000   0             0   0.015152    0.000000  0.000000         0  0.015152       0         0    0.000000     0.000000  0.015152          0          0    0  0.075758      0.000000  0.000000 ...\n",
        "1903              0.000000  0.013333     0  0.000000           0  0.000000         0   0.013333    0.013333               0             0.000000                   0.000000   0             0   0.013333    0.000000  0.000000         0  0.000000       0         0    0.000000     0.013333  0.000000          0          0    0  0.013333      0.013333  0.000000 ...\n",
        "1904              0.014286  0.000000     0  0.000000           0  0.000000         0   0.000000    0.028571               0             0.000000                   0.000000   0             0   0.000000    0.000000  0.014286         0  0.000000       0         0    0.000000     0.000000  0.000000          0          0    0  0.071429      0.000000  0.028571 ...\n",
        "1905              0.000000  0.000000     0  0.015873           0  0.031746         0   0.000000    0.031746               0             0.000000                   0.031746   0             0   0.000000    0.015873  0.000000         0  0.015873       0         0    0.015873     0.000000  0.000000          0          0    0  0.047619      0.000000  0.000000 ...\n",
        "\n",
        "[5 rows x 1000 columns]"
       ]
      }
     ],
     "prompt_number": 36
    },
    {
     "cell_type": "heading",
     "level": 3,
     "metadata": {},
     "source": [
      "4. Plot historic trends"
     ]
    },
    {
     "cell_type": "markdown",
     "metadata": {},
     "source": [
      "Ok, so now on to the fun part! We can get an idea of historic trends in Physics research, by plotting the popularity of common\n",
      "terms in these areas. From the lists of popular terms above, it seems that thermodynamic quantities, like temperature and\n",
      "pressure were popular in the turn of the century, but later lost favor to other terms. Let's plot that:"
     ]
    },
    {
     "cell_type": "code",
     "collapsed": false,
     "input": [
      "plot_columns(tdm_list_mean,['pressure','temperature'],['pressure','temperature'],'thermodynamic quantities')"
     ],
     "language": "python",
     "metadata": {},
     "outputs": [
      {
       "metadata": {},
       "output_type": "display_data",
       "png": "[encoded data removed]",
       "text": [
        "<matplotlib.figure.Figure at 0x7f52248a4f90>"
       ]
      }
     ],
     "prompt_number": 38
    },
    {
     "cell_type": "markdown",
     "metadata": {},
     "source": [
      "This is quite interesting! I see that the popularity of these terms indeed fell by a factor of 3 to 10 between 1910 and 1950, but I also see a slight resurgence in popularity in the 50's and 60's. \n",
      "\n",
      "This is a well known historic trend: the war years led to a shift of interest to nuclear physics, which later on led to the\n",
      "birth of particle Physics. The resurgence of 'low-energy' concepts such as temperature and pressure in the 50's has to do with\n",
      "the renewed interest in solid state physics -the precursor of the age of information technology. The first transistor was\n",
      "invented in Bell labs in 1947. That invention revolutionized research and technology, and its impact is visible in this graph.\n",
      "\n",
      "I mentioned nuclear phyiscs and particle physics, but maybe we can take a peek at that trend! From the list of popular terms\n",
      "by decade, I see that 'neutron' and 'nuclear' were popular in the 30's, while 'meson'and 'MeV' gained in popularity in the\n",
      "40s. "
     ]
    },
    {
     "cell_type": "code",
     "collapsed": false,
     "input": [
      "plot_columns(tdm_list_mean,['neutron','nuclear','meson','mev'],['neutron','nuclear','meson','MeV'],' nuclear physics, and particle physics')"
     ],
     "language": "python",
     "metadata": {},
     "outputs": [
      {
       "output_type": "stream",
       "stream": "stdout",
       "text": [
        "pass\n",
        "pass\n",
        "pass\n",
        "pass\n",
        "pass\n",
        "pass\n",
        "pass\n",
        "pass\n"
       ]
      },
      {
       "metadata": {},
       "output_type": "display_data",
       "png": "[encoded data removed]",
       "text": [
        "<matplotlib.figure.Figure at 0x7f5223e6e890>"
       ]
      }
     ],
     "prompt_number": 40
    },
    {
     "cell_type": "markdown",
     "metadata": {},
     "source": [
      "Indeed, it seems that 'neutrons' and 'nuclear' became popular within a matter of years circa 1930. Mesons appear with a bang\n",
      "in 1937 (or '38). This was the year when the mu-meson was discovered in cosmic radiation. The second player in particle\n",
      "physics that I plot here -the MeV energy scale- appears around 1940 when accelerators first started to reach that energy\n",
      "scale. "
     ]
    },
    {
     "cell_type": "markdown",
     "metadata": {},
     "source": [
      "As a parting note, I pull out a plot of 'nuclear','magnetic' and,'resonance' (below). While the terms have a long history\n",
      "independent of each other, I see that starting in the late '50s, their trends are conspicuously correlated. The same hint is\n",
      "visible in the list of ten most popular terms from the 60's, where these terms fall next to each other. \n",
      "\n",
      "This suggests that plotting terms individually can lead to biases and noise. A more fruitful approach would be to scan the\n",
      "corpus of titles fro N-grams, and subsequently use the most popular N-grams as entries in the term density matrix analysis. In\n",
      "other words, one should try to implement a bag-of-terms analysis instead of a bag-of-words analysis. Looking at the\n",
      "capabilities of N-gram detection in NLTK makes me optimistic that this will be possible without too much effort :-)"
     ]
    },
    {
     "cell_type": "code",
     "collapsed": false,
     "input": [
      "plot_columns(tdm_list_mean,['nuclear','magnetic','resonance'],['nuclear','magnetic','resonance'],'NMR')"
     ],
     "language": "python",
     "metadata": {},
     "outputs": [
      {
       "output_type": "stream",
       "stream": "stdout",
       "text": [
        "pass\n"
       ]
      },
      {
       "metadata": {},
       "output_type": "display_data",
       "png": "[encoded data removed]",
       "text": [
        "<matplotlib.figure.Figure at 0x7f522448c490>"
       ]
      }
     ],
     "prompt_number": 45
    },
    {
     "cell_type": "heading",
     "level": 2,
     "metadata": {},
     "source": [
      "Lessons learned"
     ]
    },
    {
     "cell_type": "markdown",
     "metadata": {},
     "source": [
      "On the data analysis side of things I learned that, in addition to cleaning up text data, one must also scan for N-grams. \n",
      "For example, 'nuclear', 'magnetic', and 'resonance' show  pretty high correlation in their trends, which would call for an\n",
      "addition of the term 'nuclear magnetic resonance'. \n",
      "\n",
      "On a lower level, I found out that memory usage scales badly manipulating large datasets. Using the pandas library to\n",
      "manipulate data, I have seen an overhead of 1000x on the size of the data I was trying to manipulate. For example, an pandas\n",
      "dataframe which costs 4 MB of memory to store as csv, will cost 4 GB of RAM when you're trying to parse it an create a new\n",
      "dataframe out of it. Sparse matrix implementations will help, but are not always handy. In short, the message is: if there is\n",
      "some library or function which will do what you want using sparse format, then use it. Otherwise, work around it by breaking\n",
      "up your data into smaller sets. If all else fails, do the job on a cluster somewhere."
     ]
    },
    {
     "cell_type": "heading",
     "level": 1,
     "metadata": {},
     "source": [
      "Appendix: Multiprocessing examples"
     ]
    },
    {
     "cell_type": "code",
     "collapsed": false,
     "input": [
      "from multiprocessing import Process\n",
      "\n",
      "def f(name):\n",
      "    print 'hello', name\n",
      "\n",
      "if __name__ == '__main__':\n",
      "    p = Process(target=f, args=('bob',))\n",
      "    p.start()\n",
      "    p.join()"
     ],
     "language": "python",
     "metadata": {},
     "outputs": []
    },
    {
     "cell_type": "code",
     "collapsed": false,
     "input": [
      "from multiprocessing import Process, Queue\n",
      "\n",
      "def f(q):\n",
      "    q.put('X' * 1000000)\n",
      "\n",
      "if __name__ == '__main__':\n",
      "    queue = Queue()\n",
      "    p = Process(target=f, args=(queue,))\n",
      "    p.start()\n",
      "    p.join()                    # this deadlocks because queue has not returned all objects yet\n",
      "    obj = queue.get()           # to avoid deadlock, put this assignement before the join statement"
     ],
     "language": "python",
     "metadata": {},
     "outputs": []
    },
    {
     "cell_type": "heading",
     "level": 2,
     "metadata": {},
     "source": [
      "Older, slow or memory inefficient versions"
     ]
    },
    {
     "cell_type": "code",
     "collapsed": false,
     "input": [
      "# memory leaking version of get_title_year\n",
      "def get_title_year(xml,low,high):\n",
      "    \"\"\"\n",
      "    Given an XML document extract the title and year of each article.\n",
      "    Inputs: xml (xml string); low, high (integers) defining beginning and ending year of the record to follow \n",
      "    \"\"\"\n",
      "    dom = web.Element(xml)\n",
      "    result = {'title':[],'publication_year':[]}\n",
      "    count = 0\n",
      "    for article in dom.by_tag('article'):\n",
      "        year = int(re.split('\"',article.by_tag('cpyrt')[0].content)[1]) \n",
      "        if low < year < high:\n",
      "            result['title'].append(article.by_tag('title')[0].content)\n",
      "            result['publication_year'].append(int(re.split('\"',article.by_tag('cpyrt')[0].content)[1]))\n",
      "    return result\n",
      "#ty_dict = get_title_year(PR_file,1912,1950)\n",
      "#ty_df = pd.DataFrame(ty_dict)\n",
      "#print ty_df.head()\n",
      "#ty_df.to_csv(os.path.join('aps-data','aps-dataset-metadata-2010','PR_ty.csv'), sep = '\\t',encoding = 'utf-8')#\n",
      "#ty_df = pd.DataFrame.from_csv(os.path.join('aps-data','aps-dataset-metadata-2010','PR_ty.csv'), sep = '\\t',encoding = 'utf-8')\n",
      "#ty_df.head()"
     ],
     "language": "python",
     "metadata": {},
     "outputs": []
    },
    {
     "cell_type": "code",
     "collapsed": false,
     "input": [
      "def df2tdm_slow(df,titleColumn,placementColumn,newPlacementColumn):\n",
      "    '''\n",
      "    takes in a DataFrame with at least two columns, and returns a dataframe with the term density matrix\n",
      "    of the words appearing in the titleColumn\n",
      "    Inputs: df, a DataFrame containing titleColumn, placementColumn among others\n",
      "    Outputs: tdm_df, a DataFrame containing newPlacementColumn and columns with all the terms in df[titleColumn]\n",
      "    '''\n",
      "    tdm_df = pd.DataFrame(index=df.index, columns=[newPlacementColumn])\n",
      "    tdm_df = tdm_df.fillna(0)\n",
      "    for idx in df.index:\n",
      "        for word in tokenize_clean( remove_punct(df[titleColumn][idx].encode('ascii','ignore')) ):\n",
      "            if word not in tdm_df.columns:\n",
      "                #print word\n",
      "                newcol = pd.DataFrame(index = df.index, columns = [word])\n",
      "                tdm_df = tdm_df.join(newcol)\n",
      "            tdm_df[newPlacementColumn][idx] = df[placementColumn][idx]\n",
      "            tdm_df[word][idx] = 1\n",
      "    return tdm_df.fillna(0,inplace = False)"
     ],
     "language": "python",
     "metadata": {},
     "outputs": [],
     "prompt_number": 5
    },
    {
     "cell_type": "code",
     "collapsed": false,
     "input": [
      "#%timeit df2tdm_sl(ty_df,'title','publication_year','publication year') # do not run on the complete PR dataframe!"
     ],
     "language": "python",
     "metadata": {},
     "outputs": [
      {
       "output_type": "stream",
       "stream": "stdout",
       "text": [
        "1 loops, best of 3: 472 ms per loop\n"
       ]
      }
     ],
     "prompt_number": 38
    }
   ],
   "metadata": {}
  }
 ]
}